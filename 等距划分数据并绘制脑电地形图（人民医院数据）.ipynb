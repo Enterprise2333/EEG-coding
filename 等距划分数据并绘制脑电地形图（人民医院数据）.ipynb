{
 "cells": [
  {
   "cell_type": "code",
   "execution_count": 55,
   "id": "b149ede6",
   "metadata": {
    "scrolled": true
   },
   "outputs": [
    {
     "name": "stderr",
     "output_type": "stream",
     "text": [
      "C:\\Users\\ANSHANJIAN\\AppData\\Local\\Temp\\ipykernel_14684\\517803321.py:8: RuntimeWarning: This filename (E:/学习资料/papers/数据/人民医院 患者脑电数据/脑电切片/SE切片/平均参考/第一批次/EAV-王纯钢-20220321.fif) does not conform to MNE naming conventions. All raw files should end with raw.fif, raw_sss.fif, raw_tsss.fif, _meg.fif, _eeg.fif, _ieeg.fif, raw.fif.gz, raw_sss.fif.gz, raw_tsss.fif.gz, _meg.fif.gz, _eeg.fif.gz or _ieeg.fif.gz\n",
      "  raw = io.read_raw_fif(raw_name)\n"
     ]
    },
    {
     "data": {
      "text/plain": [
       "<mne_qt_browser._pg_figure.MNEQtBrowser at 0x18cda9bd510>"
      ]
     },
     "execution_count": 55,
     "metadata": {},
     "output_type": "execute_result"
    }
   ],
   "source": [
    "import mne\n",
    "from mne import io\n",
    "import matplotlib.pyplot as plt\n",
    "\n",
    "#data_path = mne.datasets.sample.data_path()\n",
    "raw_name = \"E:/学习资料/papers/数据/人民医院 患者脑电数据/脑电切片/SE切片/平均参考/第一批次/EAV-王纯钢-20220321.fif\"\n",
    "\n",
    "raw = io.read_raw_fif(raw_name)\n",
    "\n",
    "raw.plot()"
   ]
  },
  {
   "cell_type": "code",
   "execution_count": 9,
   "id": "c445ff78",
   "metadata": {
    "scrolled": true
   },
   "outputs": [
    {
     "data": {
      "text/html": [
       "<table class=\"table table-hover table-striped table-sm table-responsive small\">\n",
       "    <tr>\n",
       "        <th>Measurement date</th>\n",
       "        \n",
       "        <td>March 21, 2022  14:58:33 GMT</td>\n",
       "        \n",
       "    </tr>\n",
       "    <tr>\n",
       "        <th>Experimenter</th>\n",
       "        \n",
       "        <td>Unknown</td>\n",
       "        \n",
       "    </tr>\n",
       "        <th>Participant</th>\n",
       "        \n",
       "        <td>Unknown</td>\n",
       "        \n",
       "    </tr>\n",
       "    <tr>\n",
       "        <th>Digitized points</th>\n",
       "        \n",
       "        <td>0 points</td>\n",
       "        \n",
       "    </tr>\n",
       "    <tr>\n",
       "        <th>Good channels</th>\n",
       "        <td>17 EEG</td>\n",
       "    </tr>\n",
       "    <tr>\n",
       "        <th>Bad channels</th>\n",
       "        <td>None</td>\n",
       "    </tr>\n",
       "    <tr>\n",
       "        <th>EOG channels</th>\n",
       "        <td>Not available</td>\n",
       "    </tr>\n",
       "    <tr>\n",
       "        <th>ECG channels</th>\n",
       "        <td>Not available</td>\n",
       "    \n",
       "    <tr>\n",
       "        <th>Sampling frequency</th>\n",
       "        <td>1024.00 Hz</td>\n",
       "    </tr>\n",
       "    \n",
       "    \n",
       "    <tr>\n",
       "        <th>Highpass</th>\n",
       "        <td>0.00 Hz</td>\n",
       "    </tr>\n",
       "    \n",
       "    \n",
       "    <tr>\n",
       "        <th>Lowpass</th>\n",
       "        <td>512.00 Hz</td>\n",
       "    </tr>\n",
       "    \n",
       "    \n",
       "</table>"
      ],
      "text/plain": [
       "<Info | 9 non-empty values\n",
       " bads: []\n",
       " ch_names: EEG Fp1-AV, EEG Fp2-AV, EEG F3-AV, EEG F4-AV, EEG C3-AV, EEG ...\n",
       " chs: 17 EEG\n",
       " custom_ref_applied: False\n",
       " file_id: 4 items (dict)\n",
       " highpass: 0.0 Hz\n",
       " lowpass: 512.0 Hz\n",
       " meas_date: 2022-03-21 14:58:33 UTC\n",
       " meas_id: 4 items (dict)\n",
       " nchan: 17\n",
       " projs: []\n",
       " sfreq: 1024.0 Hz\n",
       ">"
      ]
     },
     "execution_count": 9,
     "metadata": {},
     "output_type": "execute_result"
    }
   ],
   "source": [
    "raw.info"
   ]
  },
  {
   "cell_type": "code",
   "execution_count": 56,
   "id": "21c61750",
   "metadata": {
    "scrolled": true
   },
   "outputs": [
    {
     "name": "stdout",
     "output_type": "stream",
     "text": [
      "{}\n",
      "[]\n"
     ]
    },
    {
     "data": {
      "image/png": "[encoded data removed]",
      "text/plain": [
       "<Figure size 640x480 with 1 Axes>"
      ]
     },
     "metadata": {},
     "output_type": "display_data"
    }
   ],
   "source": [
    "events_from_annot, event_dict = mne.events_from_annotations(raw)\n",
    "print(event_dict)\n",
    "print(events_from_annot[:5])\n",
    "scalings = {'eeg': 'auto'}\n",
    "raw.plot(scalings=scalings)\n",
    "#创建等距事件，默认id为1\n",
    "events = mne.make_fixed_length_events(raw, duration=2.0)\n",
    "#绘制事件\n",
    "fig = mne.viz.plot_events(events, sfreq=raw.info['sfreq'],first_samp=raw.first_samp)\n",
    "fig.subplots_adjust(right=0.7)  # make room for legend\n",
    "#将事件和原始数据一起绘制"
   ]
  },
  {
   "cell_type": "code",
   "execution_count": 57,
   "id": "182ed376",
   "metadata": {},
   "outputs": [
    {
     "name": "stdout",
     "output_type": "stream",
     "text": [
      "(17, 30720)\n",
      "17\n",
      "718\n",
      "[[ 1.20175908e-05  1.14072298e-05  1.11020498e-05 ...  1.14072298e-05\n",
      "   1.07968688e-05  1.01865078e-05]\n",
      " [ 2.39462942e-05  2.39462942e-05  2.33359333e-05 ...  2.08944897e-05\n",
      "   2.08944897e-05  2.08944897e-05]\n",
      " [-3.32439272e-06 -3.32439272e-06 -3.32439272e-06 ...  2.07848621e-05\n",
      "   1.86485991e-05  1.68175171e-05]\n",
      " ...\n",
      " [-1.12116774e-05 -9.99095584e-06 -8.77023387e-06 ... -6.63397088e-06\n",
      "  -6.32879084e-06 -6.02360990e-06]\n",
      " [-5.60435721e-06 -5.60435721e-06 -5.60435721e-06 ... -8.65616214e-06\n",
      "  -7.74062020e-06 -7.13025922e-06]\n",
      " [-4.33622880e-06 -4.33622880e-06 -4.64140930e-06 ...  2.98810165e-06\n",
      "   2.68292116e-06  2.68292116e-06]]\n",
      "17\n",
      "718\n",
      "[[ 5.65769009e-06  5.65769009e-06  5.65769009e-06 ... -2.88736233e-06\n",
      "  -2.27700180e-06 -1.66664082e-06]\n",
      " [ 5.08584756e-06  5.69620764e-06  6.00138859e-06 ... -1.32294232e-06\n",
      "  -1.01776228e-06 -7.12581337e-07]\n",
      " [ 1.04324305e-05  9.82206947e-06  9.51688897e-06 ...  1.13479717e-05\n",
      "   1.19583325e-05  1.22635130e-05]\n",
      " ...\n",
      " [ 5.03103239e-06  5.03103239e-06  4.72585235e-06 ... -6.26064333e-06\n",
      "  -5.95546284e-06 -5.34510208e-06]\n",
      " [-1.26427667e-05 -1.23375858e-05 -1.20324057e-05 ... -4.09771405e-06\n",
      "  -4.09771405e-06 -4.09771405e-06]\n",
      " [ 6.25175390e-07  3.19994898e-07  3.19994898e-07 ... -2.90365859e-07\n",
      "  -1.20590722e-06 -1.81626809e-06]]\n",
      "17\n",
      "718\n",
      "[[ 1.45049597e-05  1.35894182e-05  1.29790572e-05 ... -8.68875456e-06\n",
      "  -9.29911464e-06 -1.02146557e-05]\n",
      " [ 1.00309553e-05  9.42059429e-06  9.11541380e-06 ... -7.36432961e-06\n",
      "  -7.97469059e-06 -8.58505158e-06]\n",
      " [-1.17183346e-06 -1.47701441e-06 -1.78219445e-06 ...  1.57479051e-06\n",
      "   3.54068545e-07 -8.66653425e-07]\n",
      " ...\n",
      " [-8.51838559e-07 -1.15701905e-06 -1.46219943e-06 ...  3.68883155e-07\n",
      "   3.68883155e-07  3.68883155e-07]\n",
      " [-6.36878978e-06 -6.06360975e-06 -5.45324876e-06 ...  2.48144288e-06\n",
      "   2.48144288e-06  2.78662331e-06]\n",
      " [ 2.61181128e-06  2.30663079e-06  2.00145030e-06 ...  5.66361553e-06\n",
      "   5.35843503e-06  5.05325454e-06]]\n"
     ]
    }
   ],
   "source": [
    "epochs = mne.Epochs(raw,new_events)\n",
    "epochs.plot()\n",
    "#原数据\n",
    "print(raw.get_data().shape)\n",
    "#分段后\n",
    "for epoch in epochs[:3]:\n",
    "    print(len(epoch))\n",
    "    print(len(epoch[0]))\n",
    "    print(epoch)"
   ]
  },
  {
   "cell_type": "code",
   "execution_count": 58,
   "id": "0001ba7e",
   "metadata": {},
   "outputs": [
    {
     "name": "stderr",
     "output_type": "stream",
     "text": [
      "WARNING:root:Did not find any electrode locations (in the info object), will attempt to use digitization points instead. However, if digitization points do not correspond to the EEG electrodes, this will lead to bad results. Please verify that the sensor locations in the plot are accurate.\n"
     ]
    },
    {
     "ename": "RuntimeError",
     "evalue": "No digitization points found.",
     "output_type": "error",
     "traceback": [
      "\u001b[1;31m---------------------------------------------------------------------------\u001b[0m",
      "\u001b[1;31mRuntimeError\u001b[0m                              Traceback (most recent call last)",
      "Cell \u001b[1;32mIn[58], line 20\u001b[0m\n\u001b[0;32m     16\u001b[0m \u001b[38;5;66;03m# 更新通道类型信息\u001b[39;00m\n\u001b[0;32m     17\u001b[0m evokeds\u001b[38;5;241m.\u001b[39mset_channel_types(channel_types)\n\u001b[1;32m---> 20\u001b[0m \u001b[43mevokeds\u001b[49m\u001b[38;5;241;43m.\u001b[39;49m\u001b[43manimate_topomap\u001b[49m\u001b[43m(\u001b[49m\u001b[43m)\u001b[49m\n",
      "File \u001b[1;32mD:\\Anaconda\\lib\\site-packages\\mne\\evoked.py:580\u001b[0m, in \u001b[0;36mEvoked.animate_topomap\u001b[1;34m(self, ch_type, times, frame_rate, butterfly, blit, show, time_unit, sphere, extrapolate, verbose)\u001b[0m\n\u001b[0;32m    523\u001b[0m \u001b[38;5;129m@fill_doc\u001b[39m\n\u001b[0;32m    524\u001b[0m \u001b[38;5;28;01mdef\u001b[39;00m \u001b[38;5;21manimate_topomap\u001b[39m(\u001b[38;5;28mself\u001b[39m, ch_type\u001b[38;5;241m=\u001b[39m\u001b[38;5;28;01mNone\u001b[39;00m, times\u001b[38;5;241m=\u001b[39m\u001b[38;5;28;01mNone\u001b[39;00m, frame_rate\u001b[38;5;241m=\u001b[39m\u001b[38;5;28;01mNone\u001b[39;00m,\n\u001b[0;32m    525\u001b[0m                     butterfly\u001b[38;5;241m=\u001b[39m\u001b[38;5;28;01mFalse\u001b[39;00m, blit\u001b[38;5;241m=\u001b[39m\u001b[38;5;28;01mTrue\u001b[39;00m, show\u001b[38;5;241m=\u001b[39m\u001b[38;5;28;01mTrue\u001b[39;00m, time_unit\u001b[38;5;241m=\u001b[39m\u001b[38;5;124m'\u001b[39m\u001b[38;5;124ms\u001b[39m\u001b[38;5;124m'\u001b[39m,\n\u001b[0;32m    526\u001b[0m                     sphere\u001b[38;5;241m=\u001b[39m\u001b[38;5;28;01mNone\u001b[39;00m, \u001b[38;5;241m*\u001b[39m, extrapolate\u001b[38;5;241m=\u001b[39m_EXTRAPOLATE_DEFAULT,\n\u001b[0;32m    527\u001b[0m                     verbose\u001b[38;5;241m=\u001b[39m\u001b[38;5;28;01mNone\u001b[39;00m):\n\u001b[0;32m    528\u001b[0m     \u001b[38;5;124;03m\"\"\"Make animation of evoked data as topomap timeseries.\u001b[39;00m\n\u001b[0;32m    529\u001b[0m \n\u001b[0;32m    530\u001b[0m \u001b[38;5;124;03m    The animation can be paused/resumed with left mouse button.\u001b[39;00m\n\u001b[1;32m   (...)\u001b[0m\n\u001b[0;32m    578\u001b[0m \u001b[38;5;124;03m    .. versionadded:: 0.12.0\u001b[39;00m\n\u001b[0;32m    579\u001b[0m \u001b[38;5;124;03m    \"\"\"\u001b[39;00m\n\u001b[1;32m--> 580\u001b[0m     \u001b[38;5;28;01mreturn\u001b[39;00m \u001b[43m_topomap_animation\u001b[49m\u001b[43m(\u001b[49m\n\u001b[0;32m    581\u001b[0m \u001b[43m        \u001b[49m\u001b[38;5;28;43mself\u001b[39;49m\u001b[43m,\u001b[49m\u001b[43m \u001b[49m\u001b[43mch_type\u001b[49m\u001b[38;5;241;43m=\u001b[39;49m\u001b[43mch_type\u001b[49m\u001b[43m,\u001b[49m\u001b[43m \u001b[49m\u001b[43mtimes\u001b[49m\u001b[38;5;241;43m=\u001b[39;49m\u001b[43mtimes\u001b[49m\u001b[43m,\u001b[49m\u001b[43m \u001b[49m\u001b[43mframe_rate\u001b[49m\u001b[38;5;241;43m=\u001b[39;49m\u001b[43mframe_rate\u001b[49m\u001b[43m,\u001b[49m\n\u001b[0;32m    582\u001b[0m \u001b[43m        \u001b[49m\u001b[43mbutterfly\u001b[49m\u001b[38;5;241;43m=\u001b[39;49m\u001b[43mbutterfly\u001b[49m\u001b[43m,\u001b[49m\u001b[43m \u001b[49m\u001b[43mblit\u001b[49m\u001b[38;5;241;43m=\u001b[39;49m\u001b[43mblit\u001b[49m\u001b[43m,\u001b[49m\u001b[43m \u001b[49m\u001b[43mshow\u001b[49m\u001b[38;5;241;43m=\u001b[39;49m\u001b[43mshow\u001b[49m\u001b[43m,\u001b[49m\u001b[43m \u001b[49m\u001b[43mtime_unit\u001b[49m\u001b[38;5;241;43m=\u001b[39;49m\u001b[43mtime_unit\u001b[49m\u001b[43m,\u001b[49m\n\u001b[0;32m    583\u001b[0m \u001b[43m        \u001b[49m\u001b[43msphere\u001b[49m\u001b[38;5;241;43m=\u001b[39;49m\u001b[43msphere\u001b[49m\u001b[43m,\u001b[49m\u001b[43m \u001b[49m\u001b[43mextrapolate\u001b[49m\u001b[38;5;241;43m=\u001b[39;49m\u001b[43mextrapolate\u001b[49m\u001b[43m,\u001b[49m\u001b[43m \u001b[49m\u001b[43mverbose\u001b[49m\u001b[38;5;241;43m=\u001b[39;49m\u001b[43mverbose\u001b[49m\u001b[43m)\u001b[49m\n",
      "File \u001b[1;32mD:\\Anaconda\\lib\\site-packages\\mne\\viz\\topomap.py:2339\u001b[0m, in \u001b[0;36m_topomap_animation\u001b[1;34m(evoked, ch_type, times, frame_rate, butterfly, blit, show, time_unit, sphere, extrapolate, verbose)\u001b[0m\n\u001b[0;32m   2335\u001b[0m     \u001b[38;5;28;01mraise\u001b[39;00m \u001b[38;5;167;01mValueError\u001b[39;00m(\u001b[38;5;124m'\u001b[39m\u001b[38;5;124mAll times must be inside the evoked time series.\u001b[39m\u001b[38;5;124m'\u001b[39m)\n\u001b[0;32m   2336\u001b[0m frames \u001b[38;5;241m=\u001b[39m [np\u001b[38;5;241m.\u001b[39mabs(evoked\u001b[38;5;241m.\u001b[39mtimes \u001b[38;5;241m-\u001b[39m time)\u001b[38;5;241m.\u001b[39margmin() \u001b[38;5;28;01mfor\u001b[39;00m time \u001b[38;5;129;01min\u001b[39;00m times]\n\u001b[0;32m   2338\u001b[0m picks, pos, merge_channels, _, ch_type, sphere, clip_origin \u001b[38;5;241m=\u001b[39m \\\n\u001b[1;32m-> 2339\u001b[0m     \u001b[43m_prepare_topomap_plot\u001b[49m\u001b[43m(\u001b[49m\u001b[43mevoked\u001b[49m\u001b[43m,\u001b[49m\u001b[43m \u001b[49m\u001b[43mch_type\u001b[49m\u001b[43m,\u001b[49m\u001b[43m \u001b[49m\u001b[43msphere\u001b[49m\u001b[38;5;241;43m=\u001b[39;49m\u001b[43msphere\u001b[49m\u001b[43m)\u001b[49m\n\u001b[0;32m   2340\u001b[0m data \u001b[38;5;241m=\u001b[39m evoked\u001b[38;5;241m.\u001b[39mdata[picks, :]\n\u001b[0;32m   2341\u001b[0m data \u001b[38;5;241m*\u001b[39m\u001b[38;5;241m=\u001b[39m _handle_default(\u001b[38;5;124m'\u001b[39m\u001b[38;5;124mscalings\u001b[39m\u001b[38;5;124m'\u001b[39m)[ch_type]\n",
      "File \u001b[1;32mD:\\Anaconda\\lib\\site-packages\\mne\\viz\\topomap.py:84\u001b[0m, in \u001b[0;36m_prepare_topomap_plot\u001b[1;34m(inst, ch_type, sphere)\u001b[0m\n\u001b[0;32m     81\u001b[0m info\u001b[38;5;241m.\u001b[39m_check_consistency()\n\u001b[0;32m     83\u001b[0m \u001b[38;5;66;03m# special case for merging grad channels\u001b[39;00m\n\u001b[1;32m---> 84\u001b[0m layout \u001b[38;5;241m=\u001b[39m \u001b[43mfind_layout\u001b[49m\u001b[43m(\u001b[49m\u001b[43minfo\u001b[49m\u001b[43m)\u001b[49m\n\u001b[0;32m     85\u001b[0m \u001b[38;5;28;01mif\u001b[39;00m (ch_type \u001b[38;5;241m==\u001b[39m \u001b[38;5;124m'\u001b[39m\u001b[38;5;124mgrad\u001b[39m\u001b[38;5;124m'\u001b[39m \u001b[38;5;129;01mand\u001b[39;00m layout \u001b[38;5;129;01mis\u001b[39;00m \u001b[38;5;129;01mnot\u001b[39;00m \u001b[38;5;28;01mNone\u001b[39;00m \u001b[38;5;129;01mand\u001b[39;00m\n\u001b[0;32m     86\u001b[0m         (layout\u001b[38;5;241m.\u001b[39mkind\u001b[38;5;241m.\u001b[39mstartswith(\u001b[38;5;124m'\u001b[39m\u001b[38;5;124mVectorview\u001b[39m\u001b[38;5;124m'\u001b[39m) \u001b[38;5;129;01mor\u001b[39;00m\n\u001b[0;32m     87\u001b[0m          layout\u001b[38;5;241m.\u001b[39mkind\u001b[38;5;241m.\u001b[39mstartswith(\u001b[38;5;124m'\u001b[39m\u001b[38;5;124mNeuromag_122\u001b[39m\u001b[38;5;124m'\u001b[39m))):\n\u001b[0;32m     88\u001b[0m     picks, _ \u001b[38;5;241m=\u001b[39m _pair_grad_sensors(info, layout)\n",
      "File \u001b[1;32mD:\\Anaconda\\lib\\site-packages\\mne\\channels\\layout.py:426\u001b[0m, in \u001b[0;36mfind_layout\u001b[1;34m(info, ch_type, exclude)\u001b[0m\n\u001b[0;32m    423\u001b[0m     \u001b[38;5;28;01mif\u001b[39;00m \u001b[38;5;129;01mnot\u001b[39;00m \u001b[38;5;28misinstance\u001b[39m(info, (\u001b[38;5;28mdict\u001b[39m, Info)):\n\u001b[0;32m    424\u001b[0m         \u001b[38;5;28;01mraise\u001b[39;00m \u001b[38;5;167;01mRuntimeError\u001b[39;00m(\u001b[38;5;124m'\u001b[39m\u001b[38;5;124mCannot make EEG layout, no measurement info \u001b[39m\u001b[38;5;124m'\u001b[39m\n\u001b[0;32m    425\u001b[0m                            \u001b[38;5;124m'\u001b[39m\u001b[38;5;124mwas passed to `find_layout`\u001b[39m\u001b[38;5;124m'\u001b[39m)\n\u001b[1;32m--> 426\u001b[0m     \u001b[38;5;28;01mreturn\u001b[39;00m \u001b[43mmake_eeg_layout\u001b[49m\u001b[43m(\u001b[49m\u001b[43minfo\u001b[49m\u001b[43m,\u001b[49m\u001b[43m \u001b[49m\u001b[43mexclude\u001b[49m\u001b[38;5;241;43m=\u001b[39;49m\u001b[43mexclude\u001b[49m\u001b[43m)\u001b[49m\n\u001b[0;32m    427\u001b[0m \u001b[38;5;28;01melif\u001b[39;00m has_csd_coils \u001b[38;5;129;01mand\u001b[39;00m ch_type \u001b[38;5;129;01min\u001b[39;00m [\u001b[38;5;28;01mNone\u001b[39;00m, \u001b[38;5;124m'\u001b[39m\u001b[38;5;124mcsd\u001b[39m\u001b[38;5;124m'\u001b[39m]:\n\u001b[0;32m    428\u001b[0m     \u001b[38;5;28;01mreturn\u001b[39;00m make_eeg_layout(info, exclude\u001b[38;5;241m=\u001b[39mexclude, csd\u001b[38;5;241m=\u001b[39m\u001b[38;5;28;01mTrue\u001b[39;00m)\n",
      "File \u001b[1;32mD:\\Anaconda\\lib\\site-packages\\mne\\channels\\layout.py:262\u001b[0m, in \u001b[0;36mmake_eeg_layout\u001b[1;34m(info, radius, width, height, exclude, csd)\u001b[0m\n\u001b[0;32m    260\u001b[0m     pick_kwargs\u001b[38;5;241m.\u001b[39mupdate(csd\u001b[38;5;241m=\u001b[39m\u001b[38;5;28;01mTrue\u001b[39;00m, eeg\u001b[38;5;241m=\u001b[39m\u001b[38;5;28;01mFalse\u001b[39;00m)\n\u001b[0;32m    261\u001b[0m picks \u001b[38;5;241m=\u001b[39m pick_types(info, \u001b[38;5;241m*\u001b[39m\u001b[38;5;241m*\u001b[39mpick_kwargs)\n\u001b[1;32m--> 262\u001b[0m loc2d \u001b[38;5;241m=\u001b[39m \u001b[43m_find_topomap_coords\u001b[49m\u001b[43m(\u001b[49m\u001b[43minfo\u001b[49m\u001b[43m,\u001b[49m\u001b[43m \u001b[49m\u001b[43mpicks\u001b[49m\u001b[43m)\u001b[49m\n\u001b[0;32m    263\u001b[0m names \u001b[38;5;241m=\u001b[39m [info[\u001b[38;5;124m'\u001b[39m\u001b[38;5;124mchs\u001b[39m\u001b[38;5;124m'\u001b[39m][i][\u001b[38;5;124m'\u001b[39m\u001b[38;5;124mch_name\u001b[39m\u001b[38;5;124m'\u001b[39m] \u001b[38;5;28;01mfor\u001b[39;00m i \u001b[38;5;129;01min\u001b[39;00m picks]\n\u001b[0;32m    265\u001b[0m \u001b[38;5;66;03m# Scale [x, y] to be in the range [-0.5, 0.5]\u001b[39;00m\n\u001b[0;32m    266\u001b[0m \u001b[38;5;66;03m# Don't mess with the origin or aspect ratio\u001b[39;00m\n",
      "File \u001b[1;32mD:\\Anaconda\\lib\\site-packages\\mne\\channels\\layout.py:625\u001b[0m, in \u001b[0;36m_find_topomap_coords\u001b[1;34m(info, picks, layout, ignore_overlap, to_sphere, sphere)\u001b[0m\n\u001b[0;32m    623\u001b[0m     pos \u001b[38;5;241m=\u001b[39m np\u001b[38;5;241m.\u001b[39masarray(pos)\n\u001b[0;32m    624\u001b[0m \u001b[38;5;28;01melse\u001b[39;00m:\n\u001b[1;32m--> 625\u001b[0m     pos \u001b[38;5;241m=\u001b[39m \u001b[43m_auto_topomap_coords\u001b[49m\u001b[43m(\u001b[49m\n\u001b[0;32m    626\u001b[0m \u001b[43m        \u001b[49m\u001b[43minfo\u001b[49m\u001b[43m,\u001b[49m\u001b[43m \u001b[49m\u001b[43mpicks\u001b[49m\u001b[43m,\u001b[49m\u001b[43m \u001b[49m\u001b[43mignore_overlap\u001b[49m\u001b[38;5;241;43m=\u001b[39;49m\u001b[43mignore_overlap\u001b[49m\u001b[43m,\u001b[49m\u001b[43m \u001b[49m\u001b[43mto_sphere\u001b[49m\u001b[38;5;241;43m=\u001b[39;49m\u001b[43mto_sphere\u001b[49m\u001b[43m,\u001b[49m\n\u001b[0;32m    627\u001b[0m \u001b[43m        \u001b[49m\u001b[43msphere\u001b[49m\u001b[38;5;241;43m=\u001b[39;49m\u001b[43msphere\u001b[49m\u001b[43m)\u001b[49m\n\u001b[0;32m    629\u001b[0m \u001b[38;5;28;01mreturn\u001b[39;00m pos\n",
      "File \u001b[1;32mD:\\Anaconda\\lib\\site-packages\\mne\\channels\\layout.py:690\u001b[0m, in \u001b[0;36m_auto_topomap_coords\u001b[1;34m(info, picks, ignore_overlap, to_sphere, sphere)\u001b[0m\n\u001b[0;32m    688\u001b[0m \u001b[38;5;66;03m# Get EEG digitization points\u001b[39;00m\n\u001b[0;32m    689\u001b[0m \u001b[38;5;28;01mif\u001b[39;00m info[\u001b[38;5;124m'\u001b[39m\u001b[38;5;124mdig\u001b[39m\u001b[38;5;124m'\u001b[39m] \u001b[38;5;129;01mis\u001b[39;00m \u001b[38;5;28;01mNone\u001b[39;00m \u001b[38;5;129;01mor\u001b[39;00m \u001b[38;5;28mlen\u001b[39m(info[\u001b[38;5;124m'\u001b[39m\u001b[38;5;124mdig\u001b[39m\u001b[38;5;124m'\u001b[39m]) \u001b[38;5;241m==\u001b[39m \u001b[38;5;241m0\u001b[39m:\n\u001b[1;32m--> 690\u001b[0m     \u001b[38;5;28;01mraise\u001b[39;00m \u001b[38;5;167;01mRuntimeError\u001b[39;00m(\u001b[38;5;124m'\u001b[39m\u001b[38;5;124mNo digitization points found.\u001b[39m\u001b[38;5;124m'\u001b[39m)\n\u001b[0;32m    692\u001b[0m locs3d \u001b[38;5;241m=\u001b[39m np\u001b[38;5;241m.\u001b[39marray([point[\u001b[38;5;124m'\u001b[39m\u001b[38;5;124mr\u001b[39m\u001b[38;5;124m'\u001b[39m] \u001b[38;5;28;01mfor\u001b[39;00m point \u001b[38;5;129;01min\u001b[39;00m info[\u001b[38;5;124m'\u001b[39m\u001b[38;5;124mdig\u001b[39m\u001b[38;5;124m'\u001b[39m]\n\u001b[0;32m    693\u001b[0m                    \u001b[38;5;28;01mif\u001b[39;00m point[\u001b[38;5;124m'\u001b[39m\u001b[38;5;124mkind\u001b[39m\u001b[38;5;124m'\u001b[39m] \u001b[38;5;241m==\u001b[39m FIFF\u001b[38;5;241m.\u001b[39mFIFFV_POINT_EEG])\n\u001b[0;32m    695\u001b[0m \u001b[38;5;28;01mif\u001b[39;00m \u001b[38;5;28mlen\u001b[39m(locs3d) \u001b[38;5;241m==\u001b[39m \u001b[38;5;241m0\u001b[39m:\n",
      "\u001b[1;31mRuntimeError\u001b[0m: No digitization points found."
     ]
    }
   ],
   "source": [
    "import numpy as np\n",
    "channel_types = {'EEG Fp1-AV': 'eeg', 'EEG Fp2-AV': 'eeg', 'EEG F3-AV': 'eeg','EEG F4-AV': 'eeg','EEG C3-AV': 'eeg','EEG C4-AV': 'eeg',\n",
    "                'EEG P3-AV': 'eeg','EEG P4-AV': 'eeg','EEG O1-AV': 'eeg','EEG O2-AV': 'eeg','EEG F7-AV': 'eeg','EEG F8-AV': 'eeg',\n",
    "                 'EEG T3-AV': 'eeg','EEG T4-AV': 'eeg','EEG T5-AV': 'eeg','EEG T6-AV': 'eeg','EEG Cz-AV': 'eeg'}\n",
    "epochs.set_channel_types(channel_types)\n",
    "nave = len(epochs.get_data())\n",
    "epochs.get_data().shape\n",
    "evoked_data = np.mean(epochs.get_data(),axis=0)\n",
    "evokeds = mne.EvokedArray(evoked_data, info=raw.info, tmin=-0.2,nave=nave)\n",
    "# 假设您的EEG通道的通道名是如下所示，确保通道名正确\n",
    "eeg_channel_names = ['EEG Fp1-AV', 'EEG Fp2-AV', 'EEG F3-AV', 'EEG F4-AV', 'EEG C3-AV', 'EEG C4-AV', 'EEG P3-AV', 'EEG P4-AV', 'EEG O1-AV', 'EEG O2-AV', 'EEG F7-AV', 'EEG F8-AV', 'EEG T3-AV', 'EEG T4-AV', 'EEG T5-AV', 'EEG T6-AV', 'EEG Cz-AV']\n",
    "\n",
    "# 获取通道类型的字典\n",
    "channel_types = {ch_name: 'eeg' for ch_name in eeg_channel_names}\n",
    "\n",
    "# 更新通道类型信息\n",
    "evokeds.set_channel_types(channel_types)\n",
    "\n",
    "#绘制图像\n",
    "evokeds.animate_topomap()\n",
    "#由于通道数与标准的10_20系统不同，采用自主设置脑电通道的方式后，函数未能读取脑电数据，等距划分脑电图并绘制脑电地形图未能实现\n",
    "#需要考虑按照事件划分绘制脑电地形图"
   ]
  },
  {
   "cell_type": "code",
   "execution_count": 7,
   "id": "0b636bd9",
   "metadata": {
    "scrolled": true
   },
   "outputs": [
    {
     "name": "stdout",
     "output_type": "stream",
     "text": [
      "Opening raw data file E:/学习资料/papers/数据/人民医院 患者脑电数据/脑电切片/SE切片/平均参考/第一批次/EAV-王纯钢-20220321.fif...\n"
     ]
    },
    {
     "name": "stderr",
     "output_type": "stream",
     "text": [
      "C:\\Users\\ANSHANJIAN\\AppData\\Local\\Temp\\ipykernel_23112\\308725310.py:10: RuntimeWarning: This filename (E:/学习资料/papers/数据/人民医院 患者脑电数据/脑电切片/SE切片/平均参考/第一批次/EAV-王纯钢-20220321.fif) does not conform to MNE naming conventions. All raw files should end with raw.fif, raw_sss.fif, raw_tsss.fif, _meg.fif, _eeg.fif, _ieeg.fif, raw.fif.gz, raw_sss.fif.gz, raw_tsss.fif.gz, _meg.fif.gz, _eeg.fif.gz or _ieeg.fif.gz\n",
      "  raw = io.read_raw_fif(raw_name)\n"
     ]
    },
    {
     "ename": "FileNotFoundError",
     "evalue": "fname does not exist: E:\\学习资料\\papers\\数据\\人民医院 患者脑电数据\\脑电切片\\SE切片\\平均参考\\第一批次\\EAV-王纯钢-20220321.fif",
     "output_type": "error",
     "traceback": [
      "\u001b[1;31m---------------------------------------------------------------------------\u001b[0m",
      "\u001b[1;31mFileNotFoundError\u001b[0m                         Traceback (most recent call last)",
      "Cell \u001b[1;32mIn[7], line 10\u001b[0m\n\u001b[0;32m      6\u001b[0m \u001b[38;5;28;01mfrom\u001b[39;00m \u001b[38;5;21;01mmne\u001b[39;00m \u001b[38;5;28;01mimport\u001b[39;00m read_evokeds\n\u001b[0;32m      8\u001b[0m raw_name \u001b[38;5;241m=\u001b[39m \u001b[38;5;124m\"\u001b[39m\u001b[38;5;124mE:/学习资料/papers/数据/人民医院 患者脑电数据/脑电切片/SE切片/平均参考/第一批次/EAV-王纯钢-20220321.fif\u001b[39m\u001b[38;5;124m\"\u001b[39m\n\u001b[1;32m---> 10\u001b[0m raw \u001b[38;5;241m=\u001b[39m \u001b[43mio\u001b[49m\u001b[38;5;241;43m.\u001b[39;49m\u001b[43mread_raw_fif\u001b[49m\u001b[43m(\u001b[49m\u001b[43mraw_name\u001b[49m\u001b[43m)\u001b[49m\n\u001b[0;32m     12\u001b[0m \u001b[38;5;66;03m# 获取raw文件的文件名\u001b[39;00m\n\u001b[0;32m     13\u001b[0m raw_name \u001b[38;5;241m=\u001b[39m \u001b[38;5;124m\"\u001b[39m\u001b[38;5;124mE:/学习资料/papers/数据/人民医院 患者脑电数据/脑电切片/SE切片/平均参考/第一批次/EAV-王纯钢-20220321.fif\u001b[39m\u001b[38;5;124m\"\u001b[39m\n",
      "File \u001b[1;32mD:\\Anaconda\\lib\\site-packages\\mne\\io\\fiff\\raw.py:482\u001b[0m, in \u001b[0;36mread_raw_fif\u001b[1;34m(fname, allow_maxshield, preload, on_split_missing, verbose)\u001b[0m\n\u001b[0;32m    442\u001b[0m \u001b[38;5;129m@fill_doc\u001b[39m\n\u001b[0;32m    443\u001b[0m \u001b[38;5;28;01mdef\u001b[39;00m \u001b[38;5;21mread_raw_fif\u001b[39m(fname, allow_maxshield\u001b[38;5;241m=\u001b[39m\u001b[38;5;28;01mFalse\u001b[39;00m, preload\u001b[38;5;241m=\u001b[39m\u001b[38;5;28;01mFalse\u001b[39;00m,\n\u001b[0;32m    444\u001b[0m                  on_split_missing\u001b[38;5;241m=\u001b[39m\u001b[38;5;124m'\u001b[39m\u001b[38;5;124mraise\u001b[39m\u001b[38;5;124m'\u001b[39m, verbose\u001b[38;5;241m=\u001b[39m\u001b[38;5;28;01mNone\u001b[39;00m):\n\u001b[0;32m    445\u001b[0m     \u001b[38;5;124;03m\"\"\"Reader function for Raw FIF data.\u001b[39;00m\n\u001b[0;32m    446\u001b[0m \n\u001b[0;32m    447\u001b[0m \u001b[38;5;124;03m    Parameters\u001b[39;00m\n\u001b[1;32m   (...)\u001b[0m\n\u001b[0;32m    480\u001b[0m \u001b[38;5;124;03m    are updated accordingly.\u001b[39;00m\n\u001b[0;32m    481\u001b[0m \u001b[38;5;124;03m    \"\"\"\u001b[39;00m\n\u001b[1;32m--> 482\u001b[0m     \u001b[38;5;28;01mreturn\u001b[39;00m \u001b[43mRaw\u001b[49m\u001b[43m(\u001b[49m\u001b[43mfname\u001b[49m\u001b[38;5;241;43m=\u001b[39;49m\u001b[43mfname\u001b[49m\u001b[43m,\u001b[49m\u001b[43m \u001b[49m\u001b[43mallow_maxshield\u001b[49m\u001b[38;5;241;43m=\u001b[39;49m\u001b[43mallow_maxshield\u001b[49m\u001b[43m,\u001b[49m\n\u001b[0;32m    483\u001b[0m \u001b[43m               \u001b[49m\u001b[43mpreload\u001b[49m\u001b[38;5;241;43m=\u001b[39;49m\u001b[43mpreload\u001b[49m\u001b[43m,\u001b[49m\u001b[43m \u001b[49m\u001b[43mverbose\u001b[49m\u001b[38;5;241;43m=\u001b[39;49m\u001b[43mverbose\u001b[49m\u001b[43m,\u001b[49m\n\u001b[0;32m    484\u001b[0m \u001b[43m               \u001b[49m\u001b[43mon_split_missing\u001b[49m\u001b[38;5;241;43m=\u001b[39;49m\u001b[43mon_split_missing\u001b[49m\u001b[43m)\u001b[49m\n",
      "File \u001b[1;32m<decorator-gen-240>:12\u001b[0m, in \u001b[0;36m__init__\u001b[1;34m(self, fname, allow_maxshield, preload, on_split_missing, verbose)\u001b[0m\n",
      "File \u001b[1;32mD:\\Anaconda\\lib\\site-packages\\mne\\io\\fiff\\raw.py:81\u001b[0m, in \u001b[0;36mRaw.__init__\u001b[1;34m(self, fname, allow_maxshield, preload, on_split_missing, verbose)\u001b[0m\n\u001b[0;32m     78\u001b[0m next_fname \u001b[38;5;241m=\u001b[39m fname\n\u001b[0;32m     79\u001b[0m \u001b[38;5;28;01mwhile\u001b[39;00m next_fname \u001b[38;5;129;01mis\u001b[39;00m \u001b[38;5;129;01mnot\u001b[39;00m \u001b[38;5;28;01mNone\u001b[39;00m:\n\u001b[0;32m     80\u001b[0m     raw, next_fname, buffer_size_sec \u001b[38;5;241m=\u001b[39m \\\n\u001b[1;32m---> 81\u001b[0m         \u001b[38;5;28;43mself\u001b[39;49m\u001b[38;5;241;43m.\u001b[39;49m\u001b[43m_read_raw_file\u001b[49m\u001b[43m(\u001b[49m\u001b[43mnext_fname\u001b[49m\u001b[43m,\u001b[49m\u001b[43m \u001b[49m\u001b[43mallow_maxshield\u001b[49m\u001b[43m,\u001b[49m\n\u001b[0;32m     82\u001b[0m \u001b[43m                            \u001b[49m\u001b[43mpreload\u001b[49m\u001b[43m,\u001b[49m\u001b[43m \u001b[49m\u001b[43mdo_check_ext\u001b[49m\u001b[43m)\u001b[49m\n\u001b[0;32m     83\u001b[0m     do_check_ext \u001b[38;5;241m=\u001b[39m \u001b[38;5;28;01mFalse\u001b[39;00m\n\u001b[0;32m     84\u001b[0m     raws\u001b[38;5;241m.\u001b[39mappend(raw)\n",
      "File \u001b[1;32m<decorator-gen-241>:12\u001b[0m, in \u001b[0;36m_read_raw_file\u001b[1;34m(self, fname, allow_maxshield, preload, do_check_ext, verbose)\u001b[0m\n",
      "File \u001b[1;32mD:\\Anaconda\\lib\\site-packages\\mne\\io\\fiff\\raw.py:146\u001b[0m, in \u001b[0;36mRaw._read_raw_file\u001b[1;34m(self, fname, allow_maxshield, preload, do_check_ext, verbose)\u001b[0m\n\u001b[0;32m    144\u001b[0m     check_fname(fname, \u001b[38;5;124m'\u001b[39m\u001b[38;5;124mraw\u001b[39m\u001b[38;5;124m'\u001b[39m, endings)\n\u001b[0;32m    145\u001b[0m \u001b[38;5;66;03m# filename\u001b[39;00m\n\u001b[1;32m--> 146\u001b[0m fname \u001b[38;5;241m=\u001b[39m \u001b[43m_check_fname\u001b[49m\u001b[43m(\u001b[49m\u001b[43mfname\u001b[49m\u001b[43m,\u001b[49m\u001b[43m \u001b[49m\u001b[38;5;124;43m'\u001b[39;49m\u001b[38;5;124;43mread\u001b[39;49m\u001b[38;5;124;43m'\u001b[39;49m\u001b[43m,\u001b[49m\u001b[43m \u001b[49m\u001b[38;5;28;43;01mTrue\u001b[39;49;00m\u001b[43m,\u001b[49m\u001b[43m \u001b[49m\u001b[38;5;124;43m'\u001b[39;49m\u001b[38;5;124;43mfname\u001b[39;49m\u001b[38;5;124;43m'\u001b[39;49m\u001b[43m)\u001b[49m\n\u001b[0;32m    147\u001b[0m ext \u001b[38;5;241m=\u001b[39m os\u001b[38;5;241m.\u001b[39mpath\u001b[38;5;241m.\u001b[39msplitext(fname)[\u001b[38;5;241m1\u001b[39m]\u001b[38;5;241m.\u001b[39mlower()\n\u001b[0;32m    148\u001b[0m whole_file \u001b[38;5;241m=\u001b[39m preload \u001b[38;5;28;01mif\u001b[39;00m \u001b[38;5;124m'\u001b[39m\u001b[38;5;124m.gz\u001b[39m\u001b[38;5;124m'\u001b[39m \u001b[38;5;129;01min\u001b[39;00m ext \u001b[38;5;28;01melse\u001b[39;00m \u001b[38;5;28;01mFalse\u001b[39;00m\n",
      "File \u001b[1;32m<decorator-gen-0>:12\u001b[0m, in \u001b[0;36m_check_fname\u001b[1;34m(fname, overwrite, must_exist, name, need_dir, verbose)\u001b[0m\n",
      "File \u001b[1;32mD:\\Anaconda\\lib\\site-packages\\mne\\utils\\check.py:244\u001b[0m, in \u001b[0;36m_check_fname\u001b[1;34m(fname, overwrite, must_exist, name, need_dir, verbose)\u001b[0m\n\u001b[0;32m    241\u001b[0m             \u001b[38;5;28;01mraise\u001b[39;00m \u001b[38;5;167;01mPermissionError\u001b[39;00m(\n\u001b[0;32m    242\u001b[0m                 \u001b[38;5;124mf\u001b[39m\u001b[38;5;124m'\u001b[39m\u001b[38;5;132;01m{\u001b[39;00mname\u001b[38;5;132;01m}\u001b[39;00m\u001b[38;5;124m does not have read permissions: \u001b[39m\u001b[38;5;132;01m{\u001b[39;00mfname\u001b[38;5;132;01m}\u001b[39;00m\u001b[38;5;124m'\u001b[39m)\n\u001b[0;32m    243\u001b[0m \u001b[38;5;28;01melif\u001b[39;00m must_exist:\n\u001b[1;32m--> 244\u001b[0m     \u001b[38;5;28;01mraise\u001b[39;00m \u001b[38;5;167;01mFileNotFoundError\u001b[39;00m(\u001b[38;5;124mf\u001b[39m\u001b[38;5;124m'\u001b[39m\u001b[38;5;132;01m{\u001b[39;00mname\u001b[38;5;132;01m}\u001b[39;00m\u001b[38;5;124m does not exist: \u001b[39m\u001b[38;5;132;01m{\u001b[39;00mfname\u001b[38;5;132;01m}\u001b[39;00m\u001b[38;5;124m'\u001b[39m)\n\u001b[0;32m    246\u001b[0m \u001b[38;5;28;01mreturn\u001b[39;00m fname\n",
      "\u001b[1;31mFileNotFoundError\u001b[0m: fname does not exist: E:\\学习资料\\papers\\数据\\人民医院 患者脑电数据\\脑电切片\\SE切片\\平均参考\\第一批次\\EAV-王纯钢-20220321.fif"
     ]
    }
   ],
   "source": [
    "import numpy as np\n",
    "import matplotlib.pyplot as plt\n",
    "import os\n",
    "\n",
    "from mne import io\n",
    "from mne import read_evokeds\n",
    "\n",
    "raw_name = \"E:/学习资料/papers/数据/人民医院 患者脑电数据/脑电切片/SE切片/平均参考/第一批次/EAV-王纯钢-20220321.fif\"\n",
    "\n",
    "raw = io.read_raw_fif(raw_name)\n",
    "\n",
    "# 获取raw文件的文件名\n",
    "raw_name = \"E:/学习资料/papers/数据/人民医院 患者脑电数据/脑电切片/SE切片/平均参考/第一批次/EAV-王纯钢-20220321.fif\"\n",
    "\n",
    "# 从raw文件名中提取条件名称\n",
    "condition = \"Left Auditory\"  # 从raw文件名中提取或手动设置条件名称\n",
    "\n",
    "# 构建与raw文件名对应的evoked文件名\n",
    "raw_filename_without_extension = os.path.splitext(os.path.basename(raw_name))[0]\n",
    "evoked_filename = f\"{raw_filename_without_extension}-ave.fif\"\n",
    "\n",
    "# 使用evoked文件名读取evoked数据\n",
    "evoked = read_evokeds(evoked_filename, condition=condition, baseline=(None, 0))\n"
   ]
  },
  {
   "cell_type": "code",
   "execution_count": null,
   "id": "a6271c1f",
   "metadata": {},
   "outputs": [],
   "source": []
  }
 ],
 "metadata": {
  "kernelspec": {
   "display_name": "Python 3 (ipykernel)",
   "language": "python",
   "name": "python3"
  },
  "language_info": {
   "codemirror_mode": {
    "name": "ipython",
    "version": 3
   },
   "file_extension": ".py",
   "mimetype": "text/x-python",
   "name": "python",
   "nbconvert_exporter": "python",
   "pygments_lexer": "ipython3",
   "version": "3.10.12"
  }
 },
 "nbformat": 4,
 "nbformat_minor": 5
}
